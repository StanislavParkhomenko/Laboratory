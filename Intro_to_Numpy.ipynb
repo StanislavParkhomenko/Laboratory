{
  "cells": [
    {
      "cell_type": "markdown",
      "metadata": {
        "id": "nazDCgDoOlQK"
      },
      "source": [
        "# Початок роботи з бібліотекою Numpy"
      ]
    },
    {
      "cell_type": "markdown",
      "metadata": {
        "id": "ZSO1eq0DOlQR"
      },
      "source": [
        "У даній лабораторній роботі розглянуто наступний функціонал бібліотеки Numpy:\n",
        "1. Створення масиву.\n",
        "2. Відображення масивів .\n",
        "3. Базові операції з масивами."
      ]
    },
    {
      "cell_type": "markdown",
      "metadata": {
        "id": "pb9xPdD1OlQS"
      },
      "source": [
        "## Імпорт бібліотек та пакетів"
      ]
    },
    {
      "cell_type": "markdown",
      "metadata": {
        "id": "jDb9UwhROlQU"
      },
      "source": [
        "Завантажуємо бібліотеку numpy та використаємо скорочення np."
      ]
    },
    {
      "cell_type": "code",
      "execution_count": 1,
      "metadata": {
        "id": "IPOp9EcfOlQV"
      },
      "outputs": [],
      "source": [
        "import numpy as np"
      ]
    },
    {
      "cell_type": "markdown",
      "metadata": {
        "id": "BpyjnT5LOlQX"
      },
      "source": [
        "## Створеня масиву"
      ]
    },
    {
      "cell_type": "markdown",
      "metadata": {
        "id": "khTvj2jdOlQY"
      },
      "source": [
        "Існує кілька способів створення масивів.\n",
        "Наприклад, можливе створення масиву зі звичайного списку Python або за допомогою функції масиву. Тип отриманого масиву обирається відповідно до типу елементів у послідовностях."
      ]
    },
    {
      "cell_type": "code",
      "execution_count": 2,
      "metadata": {
        "id": "YHVKYK3DOlQZ",
        "outputId": "c56661ab-36bd-4717-e57f-773f2458f8e7",
        "colab": {
          "base_uri": "https://localhost:8080/"
        }
      },
      "outputs": [
        {
          "output_type": "execute_result",
          "data": {
            "text/plain": [
              "array([2, 3, 4])"
            ]
          },
          "metadata": {},
          "execution_count": 2
        }
      ],
      "source": [
        "a = np.array([2,3,4])\n",
        "a"
      ]
    },
    {
      "cell_type": "markdown",
      "metadata": {
        "id": "JEBRzf8SOlQc"
      },
      "source": [
        "#### Друк типу масиву"
      ]
    },
    {
      "cell_type": "code",
      "execution_count": 3,
      "metadata": {
        "id": "piPJfegYOlQd",
        "outputId": "527c275c-8741-40ad-bad9-78624ab88dea",
        "colab": {
          "base_uri": "https://localhost:8080/"
        }
      },
      "outputs": [
        {
          "output_type": "execute_result",
          "data": {
            "text/plain": [
              "dtype('int64')"
            ]
          },
          "metadata": {},
          "execution_count": 3
        }
      ],
      "source": [
        "a.dtype"
      ]
    },
    {
      "cell_type": "code",
      "execution_count": 4,
      "metadata": {
        "id": "u7zTzDOhOlQe",
        "outputId": "9615e42b-3551-4638-a574-72295c538356",
        "colab": {
          "base_uri": "https://localhost:8080/"
        }
      },
      "outputs": [
        {
          "output_type": "execute_result",
          "data": {
            "text/plain": [
              "dtype('float64')"
            ]
          },
          "metadata": {},
          "execution_count": 4
        }
      ],
      "source": [
        "b = np.array([1.2, 3.5, 5.1])\n",
        "b.dtype"
      ]
    },
    {
      "cell_type": "markdown",
      "metadata": {
        "id": "orfpv2HFOlQf"
      },
      "source": [
        "#### Часта помилка полягає у виклику масиву з кількома числовими аргументами, а не в наданні єдиного списку чисел як аргументу."
      ]
    },
    {
      "cell_type": "code",
      "execution_count": null,
      "metadata": {
        "id": "NdzrL98JOlQg",
        "outputId": "ca7f9dac-3921-4b1e-d310-1bbce1dc6e9e",
        "colab": {
          "base_uri": "https://localhost:8080/",
          "height": 165
        }
      },
      "outputs": [
        {
          "output_type": "error",
          "ename": "TypeError",
          "evalue": "ignored",
          "traceback": [
            "\u001b[0;31m---------------------------------------------------------------------------\u001b[0m",
            "\u001b[0;31mTypeError\u001b[0m                                 Traceback (most recent call last)",
            "\u001b[0;32m<ipython-input-32-341b73b3abe4>\u001b[0m in \u001b[0;36m<module>\u001b[0;34m()\u001b[0m\n\u001b[0;32m----> 1\u001b[0;31m \u001b[0ma\u001b[0m \u001b[0;34m=\u001b[0m \u001b[0mnp\u001b[0m\u001b[0;34m.\u001b[0m\u001b[0marray\u001b[0m\u001b[0;34m(\u001b[0m\u001b[0;36m1\u001b[0m\u001b[0;34m,\u001b[0m\u001b[0;36m2\u001b[0m\u001b[0;34m,\u001b[0m\u001b[0;36m3\u001b[0m\u001b[0;34m,\u001b[0m\u001b[0;36m4\u001b[0m\u001b[0;34m)\u001b[0m    \u001b[0;31m# ПОМИЛКА\u001b[0m\u001b[0;34m\u001b[0m\u001b[0;34m\u001b[0m\u001b[0m\n\u001b[0m",
            "\u001b[0;31mTypeError\u001b[0m: array() takes from 1 to 2 positional arguments but 4 were given"
          ]
        }
      ],
      "source": [
        "a = np.array(1,2,3,4)    # ПОМИЛКА"
      ]
    },
    {
      "cell_type": "code",
      "execution_count": 5,
      "metadata": {
        "id": "4L7MzCSbOlQg",
        "outputId": "82c3f028-e9ef-4bef-d7ad-d156b17017d5",
        "colab": {
          "base_uri": "https://localhost:8080/"
        }
      },
      "outputs": [
        {
          "output_type": "execute_result",
          "data": {
            "text/plain": [
              "array([1, 2, 3, 4])"
            ]
          },
          "metadata": {},
          "execution_count": 5
        }
      ],
      "source": [
        "a = np.array([1,2,3,4])  # ВІРНО\n",
        "a"
      ]
    },
    {
      "cell_type": "markdown",
      "metadata": {
        "id": "07Ab5JYLOlQh"
      },
      "source": [
        "Також можливе створення багатовимірних масивів"
      ]
    },
    {
      "cell_type": "code",
      "execution_count": 6,
      "metadata": {
        "id": "Dk-Qrr1uOlQh",
        "outputId": "5be2d510-16d3-4391-81c7-49387a2c52d3",
        "colab": {
          "base_uri": "https://localhost:8080/"
        }
      },
      "outputs": [
        {
          "output_type": "execute_result",
          "data": {
            "text/plain": [
              "array([[1.5, 2. , 3. ],\n",
              "       [4. , 5. , 6. ]])"
            ]
          },
          "metadata": {},
          "execution_count": 6
        }
      ],
      "source": [
        "b = np.array([(1.5,2,3), (4,5,6)])\n",
        "b"
      ]
    },
    {
      "cell_type": "markdown",
      "metadata": {
        "id": "at9CdcspOlQi"
      },
      "source": [
        "Тип масиву також може бути явно вказаний під час створення:"
      ]
    },
    {
      "cell_type": "code",
      "execution_count": 7,
      "metadata": {
        "id": "WJtZcYGsOlQj",
        "outputId": "fa60a664-9e7c-4988-e2a1-c442b892861a",
        "colab": {
          "base_uri": "https://localhost:8080/"
        }
      },
      "outputs": [
        {
          "output_type": "execute_result",
          "data": {
            "text/plain": [
              "array([[1.+0.j, 2.+0.j],\n",
              "       [3.+0.j, 4.+0.j]])"
            ]
          },
          "metadata": {},
          "execution_count": 7
        }
      ],
      "source": [
        "c = np.array( [ [1,2], [3,4] ], dtype=complex )\n",
        "c"
      ]
    },
    {
      "cell_type": "markdown",
      "metadata": {
        "id": "nS_mxnUhOlQj"
      },
      "source": [
        "Часто елементи масиву спочатку невідомі, але його розмір відомий. Отже, NumPy пропонує кілька функцій для створення масивів з початковим вмістом.\n",
        "\n",
        "**np.zeros()** створює масив, заповнений нулями, **np.ones()** створюють масив, повний одиниць, а функція **np.empty()** створює масив, початковий вміст якого є випадковим і залежить від стану пам'яті. За замовчуванням типом створеного масиву є float64."
      ]
    },
    {
      "cell_type": "code",
      "execution_count": 8,
      "metadata": {
        "id": "Rbo-JSFzOlQk",
        "outputId": "4c96dcc4-6d70-46e5-8820-22dfad26ec75",
        "colab": {
          "base_uri": "https://localhost:8080/"
        }
      },
      "outputs": [
        {
          "output_type": "execute_result",
          "data": {
            "text/plain": [
              "array([[0., 0., 0., 0.],\n",
              "       [0., 0., 0., 0.],\n",
              "       [0., 0., 0., 0.]])"
            ]
          },
          "metadata": {},
          "execution_count": 8
        }
      ],
      "source": [
        "np.zeros((3,4))"
      ]
    },
    {
      "cell_type": "code",
      "execution_count": 9,
      "metadata": {
        "id": "jkJE70BjOlQl",
        "outputId": "a16aa92b-bf37-49e4-8c0f-7e98f269aa08",
        "colab": {
          "base_uri": "https://localhost:8080/"
        }
      },
      "outputs": [
        {
          "output_type": "execute_result",
          "data": {
            "text/plain": [
              "array([[[1, 1, 1, 1],\n",
              "        [1, 1, 1, 1],\n",
              "        [1, 1, 1, 1]],\n",
              "\n",
              "       [[1, 1, 1, 1],\n",
              "        [1, 1, 1, 1],\n",
              "        [1, 1, 1, 1]]], dtype=int16)"
            ]
          },
          "metadata": {},
          "execution_count": 9
        }
      ],
      "source": [
        "np.ones((2,3,4), dtype=np.int16) "
      ]
    },
    {
      "cell_type": "code",
      "execution_count": 10,
      "metadata": {
        "id": "RdhpyvD0OlQn",
        "outputId": "4e9d6b31-e120-4718-bfd7-3d1d95b29e0e",
        "colab": {
          "base_uri": "https://localhost:8080/"
        }
      },
      "outputs": [
        {
          "output_type": "execute_result",
          "data": {
            "text/plain": [
              "array([[1.5, 2. , 3. ],\n",
              "       [4. , 5. , 6. ]])"
            ]
          },
          "metadata": {},
          "execution_count": 10
        }
      ],
      "source": [
        "np.empty((2,3)) "
      ]
    },
    {
      "cell_type": "markdown",
      "metadata": {
        "id": "hu2yrGSMOlQn"
      },
      "source": [
        "Коли використовується ранжування чисел із плаваючою точкою, як правило, неможливо передбачити кількість одержаних елементів через точність кінцевої плаваючої точки. З цієї причини, як правило, краще використовувати функцію **np.linspace**, яка отримує в якості аргументу кількість потрібних нам елементів, а не крок:"
      ]
    },
    {
      "cell_type": "code",
      "execution_count": 11,
      "metadata": {
        "id": "xunHN_lLOlQo",
        "outputId": "107707aa-2a72-4cf2-fca8-a2a2d0313f37",
        "colab": {
          "base_uri": "https://localhost:8080/"
        }
      },
      "outputs": [
        {
          "output_type": "execute_result",
          "data": {
            "text/plain": [
              "array([0.  , 0.25, 0.5 , 0.75, 1.  , 1.25, 1.5 , 1.75, 2.  ])"
            ]
          },
          "metadata": {},
          "execution_count": 11
        }
      ],
      "source": [
        "from numpy import pi\n",
        "np.linspace(0, 2, 9)                 # 9 чисел від 0 до 2"
      ]
    },
    {
      "cell_type": "code",
      "execution_count": 12,
      "metadata": {
        "id": "O57fFcrqOlQo"
      },
      "outputs": [],
      "source": [
        "x = np.linspace(0, 2*pi, 100)        \n",
        "f = np.sin(x)"
      ]
    },
    {
      "cell_type": "markdown",
      "metadata": {
        "id": "KuGM5jUUOlQp"
      },
      "source": [
        "### Виведення масиву"
      ]
    },
    {
      "cell_type": "code",
      "execution_count": 13,
      "metadata": {
        "id": "2CjZSTEvOlQp",
        "outputId": "36bd5e22-617f-4e24-e89d-5268e66f4100",
        "colab": {
          "base_uri": "https://localhost:8080/"
        }
      },
      "outputs": [
        {
          "output_type": "stream",
          "name": "stdout",
          "text": [
            "[0 1 2 3 4 5]\n"
          ]
        }
      ],
      "source": [
        "a = np.arange(6)                         # 1-мірний масив\n",
        "print(a)"
      ]
    },
    {
      "cell_type": "code",
      "execution_count": 14,
      "metadata": {
        "id": "hLYH-O9OOlQp",
        "outputId": "87d3d8ec-8b1f-4e78-f12c-cc1dadf4227d",
        "colab": {
          "base_uri": "https://localhost:8080/"
        }
      },
      "outputs": [
        {
          "output_type": "stream",
          "name": "stdout",
          "text": [
            "[[ 0  1  2]\n",
            " [ 3  4  5]\n",
            " [ 6  7  8]\n",
            " [ 9 10 11]]\n"
          ]
        }
      ],
      "source": [
        "b = np.arange(12).reshape(4,3)           # 2-мірний масив\n",
        "print(b)"
      ]
    },
    {
      "cell_type": "code",
      "execution_count": 15,
      "metadata": {
        "id": "F-3F2s32OlQp",
        "outputId": "33095525-87f8-4f33-e1cf-c2eae59504b3",
        "colab": {
          "base_uri": "https://localhost:8080/"
        }
      },
      "outputs": [
        {
          "output_type": "stream",
          "name": "stdout",
          "text": [
            "[[[ 0  1  2  3]\n",
            "  [ 4  5  6  7]\n",
            "  [ 8  9 10 11]]\n",
            "\n",
            " [[12 13 14 15]\n",
            "  [16 17 18 19]\n",
            "  [20 21 22 23]]]\n"
          ]
        }
      ],
      "source": [
        "c = np.arange(24).reshape(2,3,4)         # 3-мірний масив\n",
        "print(c)"
      ]
    },
    {
      "cell_type": "markdown",
      "metadata": {
        "id": "Vc_k727WOlQq"
      },
      "source": [
        "### Базові операції"
      ]
    },
    {
      "cell_type": "markdown",
      "metadata": {
        "id": "MYf5m3CMOlQq"
      },
      "source": [
        "Арифметичні оператори на масивах застосовуються по елементно. Створюється новий масив і заповнюється результатом."
      ]
    },
    {
      "cell_type": "code",
      "execution_count": 16,
      "metadata": {
        "id": "ZXXhcNWTOlQq",
        "outputId": "240fc2f3-a267-428c-a111-50680fb8298a",
        "colab": {
          "base_uri": "https://localhost:8080/"
        }
      },
      "outputs": [
        {
          "output_type": "execute_result",
          "data": {
            "text/plain": [
              "array([0, 1, 2, 3])"
            ]
          },
          "metadata": {},
          "execution_count": 16
        }
      ],
      "source": [
        "a = np.array( [20,30,40,50] )\n",
        "b = np.arange( 4 )\n",
        "b"
      ]
    },
    {
      "cell_type": "code",
      "execution_count": 17,
      "metadata": {
        "id": "7aG64I5HOlQr",
        "outputId": "3b530a6d-0d3c-43bb-d083-c42692d1bfa6",
        "colab": {
          "base_uri": "https://localhost:8080/"
        }
      },
      "outputs": [
        {
          "output_type": "execute_result",
          "data": {
            "text/plain": [
              "array([20, 29, 38, 47])"
            ]
          },
          "metadata": {},
          "execution_count": 17
        }
      ],
      "source": [
        "c = a-b\n",
        "c"
      ]
    },
    {
      "cell_type": "markdown",
      "metadata": {
        "id": "SgnK8hFrOlQr"
      },
      "source": [
        "#### Зведення в ступінь"
      ]
    },
    {
      "cell_type": "code",
      "execution_count": 18,
      "metadata": {
        "id": "n00lg6pDOlQr",
        "outputId": "f435e91c-72a5-425c-8569-0dbd5a9df9e8",
        "colab": {
          "base_uri": "https://localhost:8080/"
        }
      },
      "outputs": [
        {
          "output_type": "execute_result",
          "data": {
            "text/plain": [
              "array([0, 1, 4, 9])"
            ]
          },
          "metadata": {},
          "execution_count": 18
        }
      ],
      "source": [
        "b**2"
      ]
    },
    {
      "cell_type": "markdown",
      "metadata": {
        "id": "VlUqd19WOlQr"
      },
      "source": [
        "#### Множення"
      ]
    },
    {
      "cell_type": "code",
      "execution_count": 19,
      "metadata": {
        "id": "kQVgkybeOlQs",
        "outputId": "2f60fcd1-20b2-4d90-969f-ff577f27fba4",
        "colab": {
          "base_uri": "https://localhost:8080/"
        }
      },
      "outputs": [
        {
          "output_type": "execute_result",
          "data": {
            "text/plain": [
              "array([ 9.12945251, -9.88031624,  7.4511316 , -2.62374854])"
            ]
          },
          "metadata": {},
          "execution_count": 19
        }
      ],
      "source": [
        "10*np.sin(a)"
      ]
    },
    {
      "cell_type": "markdown",
      "metadata": {
        "id": "ogBz647gOlQt"
      },
      "source": [
        "#### Нерівність"
      ]
    },
    {
      "cell_type": "code",
      "execution_count": 20,
      "metadata": {
        "id": "bCw1yOtgOlQt",
        "outputId": "085a9ad6-c894-4b90-b585-cd88a1756d7e",
        "colab": {
          "base_uri": "https://localhost:8080/"
        }
      },
      "outputs": [
        {
          "output_type": "execute_result",
          "data": {
            "text/plain": [
              "array([ True,  True, False, False])"
            ]
          },
          "metadata": {},
          "execution_count": 20
        }
      ],
      "source": [
        "a<35"
      ]
    },
    {
      "cell_type": "markdown",
      "metadata": {
        "id": "Vym4WbBMOlQt"
      },
      "source": [
        "На відміну від багатьох матричних мов програмування, оператор множення $*$ працює по елементно в масивах NumPy. Матричне множення можна виконати за допомогою оператора **@** або методу **dot**:"
      ]
    },
    {
      "cell_type": "code",
      "execution_count": 21,
      "metadata": {
        "id": "HUgO7gViOlQu"
      },
      "outputs": [],
      "source": [
        "A = np.array([[1,1],\n",
        "              [0,1]] )\n",
        "\n",
        "B = np.array([[2,0],\n",
        "              [3,4]] )"
      ]
    },
    {
      "cell_type": "markdown",
      "metadata": {
        "id": "ypZF88t7OlQu"
      },
      "source": [
        "По елементне множення"
      ]
    },
    {
      "cell_type": "code",
      "execution_count": 22,
      "metadata": {
        "id": "ZxUiDpUAOlQu",
        "outputId": "d1f1de83-5fba-425a-fd73-542893feba84",
        "colab": {
          "base_uri": "https://localhost:8080/"
        }
      },
      "outputs": [
        {
          "output_type": "execute_result",
          "data": {
            "text/plain": [
              "array([[2, 0],\n",
              "       [0, 4]])"
            ]
          },
          "metadata": {},
          "execution_count": 22
        }
      ],
      "source": [
        "A * B                       "
      ]
    },
    {
      "cell_type": "markdown",
      "metadata": {
        "id": "IhAxC8m3OlQu"
      },
      "source": [
        "Матричне множення"
      ]
    },
    {
      "cell_type": "code",
      "execution_count": 23,
      "metadata": {
        "id": "ySXtcGMzOlQv",
        "outputId": "0c6b83c1-b8a9-4978-843a-2254e70d7db0",
        "colab": {
          "base_uri": "https://localhost:8080/"
        }
      },
      "outputs": [
        {
          "output_type": "execute_result",
          "data": {
            "text/plain": [
              "array([[5, 4],\n",
              "       [3, 4]])"
            ]
          },
          "metadata": {},
          "execution_count": 23
        }
      ],
      "source": [
        "A @ B                     "
      ]
    },
    {
      "cell_type": "markdown",
      "metadata": {
        "id": "I2WiiHtnOlQv"
      },
      "source": [
        "Матричне множення"
      ]
    },
    {
      "cell_type": "code",
      "execution_count": 24,
      "metadata": {
        "id": "YXCuXKMFOlQv",
        "outputId": "6ddc3108-c9d8-4669-cac6-d971552ee083",
        "colab": {
          "base_uri": "https://localhost:8080/"
        }
      },
      "outputs": [
        {
          "output_type": "execute_result",
          "data": {
            "text/plain": [
              "array([[5, 4],\n",
              "       [3, 4]])"
            ]
          },
          "metadata": {},
          "execution_count": 24
        }
      ],
      "source": [
        "A.dot(B)"
      ]
    },
    {
      "cell_type": "markdown",
      "metadata": {
        "id": "7i2MaWtJOlQv"
      },
      "source": [
        "Багато унарних операцій, таких як обчислення суми всіх елементів масиву, реалізовані як методи класу ndarray."
      ]
    },
    {
      "cell_type": "code",
      "execution_count": 25,
      "metadata": {
        "id": "tdVWZ2dGOlQw",
        "outputId": "1e2d06e6-5ef6-4e1e-cbde-6e3fbe36bca3",
        "colab": {
          "base_uri": "https://localhost:8080/"
        }
      },
      "outputs": [
        {
          "output_type": "execute_result",
          "data": {
            "text/plain": [
              "array([[0.30149006, 0.70176232, 0.77193851],\n",
              "       [0.69560922, 0.07723729, 0.52265627]])"
            ]
          },
          "metadata": {},
          "execution_count": 25
        }
      ],
      "source": [
        "a = np.random.random((2,3))\n",
        "a"
      ]
    },
    {
      "cell_type": "markdown",
      "metadata": {
        "id": "P2szDH7SOlQw"
      },
      "source": [
        "Сумування елементів масиву"
      ]
    },
    {
      "cell_type": "code",
      "execution_count": 26,
      "metadata": {
        "id": "9V7OwrsfOlQw",
        "outputId": "716b6487-cadc-451b-9ac2-106018805b38",
        "colab": {
          "base_uri": "https://localhost:8080/"
        }
      },
      "outputs": [
        {
          "output_type": "execute_result",
          "data": {
            "text/plain": [
              "3.070693674622267"
            ]
          },
          "metadata": {},
          "execution_count": 26
        }
      ],
      "source": [
        "a.sum()"
      ]
    },
    {
      "cell_type": "markdown",
      "metadata": {
        "id": "hY8i0rzdOlQw"
      },
      "source": [
        "Визначення мінімального значення"
      ]
    },
    {
      "cell_type": "code",
      "execution_count": 27,
      "metadata": {
        "id": "D0j-f5lYOlQw",
        "outputId": "e38704d9-ae0e-4b3d-eecc-00389703e456",
        "colab": {
          "base_uri": "https://localhost:8080/"
        }
      },
      "outputs": [
        {
          "output_type": "execute_result",
          "data": {
            "text/plain": [
              "0.07723729402158164"
            ]
          },
          "metadata": {},
          "execution_count": 27
        }
      ],
      "source": [
        "a.min()"
      ]
    },
    {
      "cell_type": "markdown",
      "metadata": {
        "id": "ryMbwCASOlQx"
      },
      "source": [
        "Визначення максимального значення"
      ]
    },
    {
      "cell_type": "code",
      "execution_count": 28,
      "metadata": {
        "id": "kTBbq7zgOlQx",
        "outputId": "5d7d3a13-2d11-4d2c-87c2-7cbd60062445",
        "colab": {
          "base_uri": "https://localhost:8080/"
        }
      },
      "outputs": [
        {
          "output_type": "execute_result",
          "data": {
            "text/plain": [
              "0.7719385121294513"
            ]
          },
          "metadata": {},
          "execution_count": 28
        }
      ],
      "source": [
        "a.max()"
      ]
    },
    {
      "cell_type": "markdown",
      "metadata": {
        "id": "rSKrUIa3OlQx"
      },
      "source": [
        "#### Робота із рядками та стовпцями"
      ]
    },
    {
      "cell_type": "code",
      "execution_count": 29,
      "metadata": {
        "id": "9kSito28OlQy",
        "outputId": "929b0895-134e-481a-b194-6dfd375ed333",
        "colab": {
          "base_uri": "https://localhost:8080/"
        }
      },
      "outputs": [
        {
          "output_type": "execute_result",
          "data": {
            "text/plain": [
              "array([[ 0,  1,  2,  3],\n",
              "       [ 4,  5,  6,  7],\n",
              "       [ 8,  9, 10, 11]])"
            ]
          },
          "metadata": {},
          "execution_count": 29
        }
      ],
      "source": [
        "b = np.arange(12).reshape(3,4)\n",
        "b"
      ]
    },
    {
      "cell_type": "markdown",
      "metadata": {
        "id": "GqEOJxcFOlQy"
      },
      "source": [
        "Сумування кожного стовпця"
      ]
    },
    {
      "cell_type": "code",
      "execution_count": 30,
      "metadata": {
        "id": "54jzo-DEOlQy",
        "outputId": "3088951e-4ee4-42a4-d9a0-065249cf7144",
        "colab": {
          "base_uri": "https://localhost:8080/"
        }
      },
      "outputs": [
        {
          "output_type": "execute_result",
          "data": {
            "text/plain": [
              "array([12, 15, 18, 21])"
            ]
          },
          "metadata": {},
          "execution_count": 30
        }
      ],
      "source": [
        "b.sum(axis=0)                       "
      ]
    },
    {
      "cell_type": "markdown",
      "metadata": {
        "id": "JVODWv3aOlQy"
      },
      "source": [
        "Мінімальні елементи в кожному стовпці"
      ]
    },
    {
      "cell_type": "code",
      "execution_count": 31,
      "metadata": {
        "id": "3AgPwMJUOlQz",
        "outputId": "9b87a031-6e10-47d8-d3d1-22551357bb88",
        "colab": {
          "base_uri": "https://localhost:8080/"
        }
      },
      "outputs": [
        {
          "output_type": "execute_result",
          "data": {
            "text/plain": [
              "array([0, 1, 2, 3])"
            ]
          },
          "metadata": {},
          "execution_count": 31
        }
      ],
      "source": [
        "b.min(axis=0)                          "
      ]
    },
    {
      "cell_type": "markdown",
      "metadata": {
        "id": "evxjmWAtOlQz"
      },
      "source": [
        "Максимальні елементи в кожному рядку"
      ]
    },
    {
      "cell_type": "code",
      "execution_count": 32,
      "metadata": {
        "id": "PfWBEtcEOlQz",
        "outputId": "0f1e2389-7f6c-4b65-db5d-4a47d8b3ba92",
        "colab": {
          "base_uri": "https://localhost:8080/"
        }
      },
      "outputs": [
        {
          "output_type": "execute_result",
          "data": {
            "text/plain": [
              "array([ 3,  7, 11])"
            ]
          },
          "metadata": {},
          "execution_count": 32
        }
      ],
      "source": [
        "b.max(axis=1)  "
      ]
    },
    {
      "cell_type": "markdown",
      "metadata": {
        "id": "BBXQr_MGOlQz"
      },
      "source": [
        "### Індексування масивів"
      ]
    },
    {
      "cell_type": "code",
      "execution_count": 33,
      "metadata": {
        "id": "5U10_6mPOlQz",
        "outputId": "156352f4-16f2-4df0-cf30-8dd5b6e7b042",
        "colab": {
          "base_uri": "https://localhost:8080/"
        }
      },
      "outputs": [
        {
          "output_type": "execute_result",
          "data": {
            "text/plain": [
              "array([  0,   1,   8,  27,  64, 125, 216, 343, 512, 729])"
            ]
          },
          "metadata": {},
          "execution_count": 33
        }
      ],
      "source": [
        "a = np.arange(10)**3\n",
        "a"
      ]
    },
    {
      "cell_type": "markdown",
      "metadata": {
        "id": "K0urxfknOlQ0"
      },
      "source": [
        "Доступ до довільного елементу масиву"
      ]
    },
    {
      "cell_type": "code",
      "execution_count": 34,
      "metadata": {
        "id": "axxIZmvPOlQ0",
        "outputId": "fa01177f-c361-4607-9d3e-9a2e668f5dbe",
        "colab": {
          "base_uri": "https://localhost:8080/"
        }
      },
      "outputs": [
        {
          "output_type": "execute_result",
          "data": {
            "text/plain": [
              "8"
            ]
          },
          "metadata": {},
          "execution_count": 34
        }
      ],
      "source": [
        "a[2]"
      ]
    },
    {
      "cell_type": "markdown",
      "metadata": {
        "id": "78PLMrq1OlQ0"
      },
      "source": [
        "Доступ до декількох елементів масиву в зазначених межах"
      ]
    },
    {
      "cell_type": "code",
      "execution_count": 35,
      "metadata": {
        "id": "47xSCtLTOlQ0",
        "outputId": "04d3b015-c565-47e9-82fb-b1c31999fc4e",
        "colab": {
          "base_uri": "https://localhost:8080/"
        }
      },
      "outputs": [
        {
          "output_type": "execute_result",
          "data": {
            "text/plain": [
              "array([ 8, 27, 64])"
            ]
          },
          "metadata": {},
          "execution_count": 35
        }
      ],
      "source": [
        "a[2:5]"
      ]
    },
    {
      "cell_type": "markdown",
      "metadata": {
        "id": "OFBBiDJGOlQ0"
      },
      "source": [
        "Ітеративна заміна значень масиву\n",
        "Зі стартової позиції 6 замінити кожен другий елемент на -1000"
      ]
    },
    {
      "cell_type": "code",
      "execution_count": 36,
      "metadata": {
        "id": "ijPQIDd8OlQ1",
        "outputId": "241e3481-fbdc-41ce-fd61-00befe271292",
        "colab": {
          "base_uri": "https://localhost:8080/"
        }
      },
      "outputs": [
        {
          "output_type": "execute_result",
          "data": {
            "text/plain": [
              "array([-1000,     1, -1000,    27, -1000,   125,   216,   343,   512,\n",
              "         729])"
            ]
          },
          "metadata": {},
          "execution_count": 36
        }
      ],
      "source": [
        "a[:6:2] = -1000\n",
        "a"
      ]
    },
    {
      "cell_type": "markdown",
      "metadata": {
        "id": "CuCoQNZLOlQ1"
      },
      "source": [
        "Реверс масиву"
      ]
    },
    {
      "cell_type": "code",
      "execution_count": 37,
      "metadata": {
        "id": "ZvDSozMKOlQ1",
        "outputId": "b261135a-7f6a-4ce3-ab92-cb9a0ab88820",
        "colab": {
          "base_uri": "https://localhost:8080/"
        }
      },
      "outputs": [
        {
          "output_type": "execute_result",
          "data": {
            "text/plain": [
              "array([  729,   512,   343,   216,   125, -1000,    27, -1000,     1,\n",
              "       -1000])"
            ]
          },
          "metadata": {},
          "execution_count": 37
        }
      ],
      "source": [
        "a[ : :-1]                               "
      ]
    },
    {
      "cell_type": "markdown",
      "metadata": {
        "id": "AvGWoxspOlQ2"
      },
      "source": [
        "Доступ до елментів масиву через цикл"
      ]
    },
    {
      "cell_type": "code",
      "execution_count": 38,
      "metadata": {
        "id": "dz30GBjdOlQ2",
        "outputId": "4921e0f0-5e1d-4090-c577-4d492b798779",
        "colab": {
          "base_uri": "https://localhost:8080/"
        }
      },
      "outputs": [
        {
          "output_type": "stream",
          "name": "stdout",
          "text": [
            "nan\n",
            "1\n",
            "nan\n",
            "3\n",
            "nan\n",
            "5\n",
            "6\n",
            "7\n",
            "8\n",
            "9\n"
          ]
        },
        {
          "output_type": "stream",
          "name": "stderr",
          "text": [
            "/usr/local/lib/python3.7/dist-packages/ipykernel_launcher.py:2: RuntimeWarning: invalid value encountered in power\n",
            "  \n"
          ]
        }
      ],
      "source": [
        "for i in a:\n",
        "    print(\"%1.0f\" % (i**(1/3.)))"
      ]
    },
    {
      "cell_type": "markdown",
      "metadata": {
        "id": "Y3bYdpA7OlQ3"
      },
      "source": [
        "### Зміна розмірноста (\"форми\") масиву"
      ]
    },
    {
      "cell_type": "markdown",
      "metadata": {
        "id": "_3LR9EILOlQ4"
      },
      "source": [
        "За допомогою функції **np.floor**, яка округлює число до цілого створимо масив із віипадковими числами."
      ]
    },
    {
      "cell_type": "code",
      "execution_count": 39,
      "metadata": {
        "id": "28cgt9NCOlQ5",
        "outputId": "0f7ca43d-bf37-47e6-9ddd-0d12f85cb5d8",
        "colab": {
          "base_uri": "https://localhost:8080/"
        }
      },
      "outputs": [
        {
          "output_type": "execute_result",
          "data": {
            "text/plain": [
              "array([[6., 9., 8., 5.],\n",
              "       [4., 0., 6., 6.],\n",
              "       [1., 1., 5., 8.]])"
            ]
          },
          "metadata": {},
          "execution_count": 39
        }
      ],
      "source": [
        "a = np.floor(10*np.random.random((3,4)))\n",
        "a"
      ]
    },
    {
      "cell_type": "markdown",
      "metadata": {
        "id": "WPmoaiUFOlQ5"
      },
      "source": [
        "Визначення розмірності масиву"
      ]
    },
    {
      "cell_type": "code",
      "execution_count": 40,
      "metadata": {
        "id": "CD9U3oNBOlQ5",
        "outputId": "003e7cd3-bd46-463c-83c5-8cbb102b1e9d",
        "colab": {
          "base_uri": "https://localhost:8080/"
        }
      },
      "outputs": [
        {
          "output_type": "execute_result",
          "data": {
            "text/plain": [
              "(3, 4)"
            ]
          },
          "metadata": {},
          "execution_count": 40
        }
      ],
      "source": [
        "a.shape"
      ]
    },
    {
      "cell_type": "markdown",
      "metadata": {
        "id": "xZOZ8Cc6OlQ6"
      },
      "source": [
        "Форму масиву можна змінювати за допомогою різних команд. Зауважте, що всі наступні три команди повертають модифікований масив, але не змінюють початковий масив:"
      ]
    },
    {
      "cell_type": "markdown",
      "metadata": {
        "id": "Zvq92phlOlQ6"
      },
      "source": [
        "Функція **ravel()** перетворює багатовимірний масив в одновимірний"
      ]
    },
    {
      "cell_type": "code",
      "execution_count": 41,
      "metadata": {
        "id": "8-OiieEqOlQ6",
        "outputId": "21fde09b-8c52-4ed9-f0c6-76e7b9b8a50c",
        "colab": {
          "base_uri": "https://localhost:8080/"
        }
      },
      "outputs": [
        {
          "output_type": "execute_result",
          "data": {
            "text/plain": [
              "array([6., 9., 8., 5., 4., 0., 6., 6., 1., 1., 5., 8.])"
            ]
          },
          "metadata": {},
          "execution_count": 41
        }
      ],
      "source": [
        "a.ravel()  "
      ]
    },
    {
      "cell_type": "markdown",
      "metadata": {
        "id": "k2Ryr2n7OlQ7"
      },
      "source": [
        "Функція **reshape()** змінює форму масиву на задану"
      ]
    },
    {
      "cell_type": "code",
      "execution_count": 42,
      "metadata": {
        "id": "DRg0zSKdOlQ7",
        "outputId": "58d99fd7-cd5d-4835-8e69-2ce849f7e20c",
        "colab": {
          "base_uri": "https://localhost:8080/"
        }
      },
      "outputs": [
        {
          "output_type": "execute_result",
          "data": {
            "text/plain": [
              "array([[6., 9.],\n",
              "       [8., 5.],\n",
              "       [4., 0.],\n",
              "       [6., 6.],\n",
              "       [1., 1.],\n",
              "       [5., 8.]])"
            ]
          },
          "metadata": {},
          "execution_count": 42
        }
      ],
      "source": [
        "a.reshape(6,2)  "
      ]
    },
    {
      "cell_type": "markdown",
      "metadata": {
        "id": "P4Tfvr4rOlQ7"
      },
      "source": [
        "Транспонування масиву"
      ]
    },
    {
      "cell_type": "code",
      "execution_count": 43,
      "metadata": {
        "id": "dmXvY2obOlQ8",
        "outputId": "21af37a7-3049-4c4b-f0ac-292fa0b0e27d",
        "colab": {
          "base_uri": "https://localhost:8080/"
        }
      },
      "outputs": [
        {
          "output_type": "execute_result",
          "data": {
            "text/plain": [
              "array([[6., 4., 1.],\n",
              "       [9., 0., 1.],\n",
              "       [8., 6., 5.],\n",
              "       [5., 6., 8.]])"
            ]
          },
          "metadata": {},
          "execution_count": 43
        }
      ],
      "source": [
        "a.T"
      ]
    },
    {
      "cell_type": "markdown",
      "metadata": {
        "id": "oksG1zu6OlQ8"
      },
      "source": [
        "Визначення розмірності транспонованого масиву"
      ]
    },
    {
      "cell_type": "code",
      "execution_count": 44,
      "metadata": {
        "id": "zPXtpimQOlQ8",
        "outputId": "ba38b3b6-5ea0-4278-e0ab-f6e42c10a89f",
        "colab": {
          "base_uri": "https://localhost:8080/"
        }
      },
      "outputs": [
        {
          "output_type": "execute_result",
          "data": {
            "text/plain": [
              "(4, 3)"
            ]
          },
          "metadata": {},
          "execution_count": 44
        }
      ],
      "source": [
        "a.T.shape"
      ]
    },
    {
      "cell_type": "markdown",
      "metadata": {
        "id": "JYlJz2xbOlQ8"
      },
      "source": [
        "Визначення розмірності вихідного масиву"
      ]
    },
    {
      "cell_type": "code",
      "execution_count": 45,
      "metadata": {
        "id": "VhYDzopvOlQ8",
        "outputId": "e89bbd87-d1ca-4e0b-a6c8-afa1c39b90f5",
        "colab": {
          "base_uri": "https://localhost:8080/"
        }
      },
      "outputs": [
        {
          "output_type": "execute_result",
          "data": {
            "text/plain": [
              "(3, 4)"
            ]
          },
          "metadata": {},
          "execution_count": 45
        }
      ],
      "source": [
        "a.shape"
      ]
    },
    {
      "cell_type": "markdown",
      "metadata": {
        "id": "6KyYp06iOlQ8"
      },
      "source": [
        "Функція **reshape()** повертає аргумент із зміненою формою, тоді як метод **resize()** змінює сам масив:"
      ]
    },
    {
      "cell_type": "code",
      "execution_count": 46,
      "metadata": {
        "id": "vBPJVIg5OlQ9",
        "outputId": "67ca62b2-d6eb-449f-8d8b-f4c517322613",
        "colab": {
          "base_uri": "https://localhost:8080/"
        }
      },
      "outputs": [
        {
          "output_type": "execute_result",
          "data": {
            "text/plain": [
              "array([[6., 9., 8., 5.],\n",
              "       [4., 0., 6., 6.],\n",
              "       [1., 1., 5., 8.]])"
            ]
          },
          "metadata": {},
          "execution_count": 46
        }
      ],
      "source": [
        "a"
      ]
    },
    {
      "cell_type": "code",
      "execution_count": 47,
      "metadata": {
        "id": "czpkqhuTOlQ9",
        "outputId": "05fa9301-536a-45cb-f230-c69117daf47f",
        "colab": {
          "base_uri": "https://localhost:8080/"
        }
      },
      "outputs": [
        {
          "output_type": "execute_result",
          "data": {
            "text/plain": [
              "array([[6., 9., 8., 5., 4., 0.],\n",
              "       [6., 6., 1., 1., 5., 8.]])"
            ]
          },
          "metadata": {},
          "execution_count": 47
        }
      ],
      "source": [
        "a.resize((2,6))\n",
        "a"
      ]
    },
    {
      "cell_type": "markdown",
      "metadata": {
        "id": "jnloNE00OlQ9"
      },
      "source": [
        "# Завдання\n",
        "## 1. Створити двомірний нульовий масив розміром 11х11 та заповнити його діагоналі одиницями.\n",
        "\n",
        "1.1. Задати розмір масиву"
      ]
    },
    {
      "cell_type": "code",
      "execution_count": 48,
      "metadata": {
        "id": "iT5DmsNROlQ9"
      },
      "outputs": [],
      "source": [
        "size = 11"
      ]
    },
    {
      "cell_type": "markdown",
      "metadata": {
        "id": "zpcwra5TOlQ-"
      },
      "source": [
        "1.2. Створити нульовий масив заданого розміру"
      ]
    },
    {
      "cell_type": "code",
      "execution_count": 49,
      "metadata": {
        "id": "TKgjSZtaOlQ-"
      },
      "outputs": [],
      "source": [
        "arr = np.zeros((size,size))"
      ]
    },
    {
      "cell_type": "markdown",
      "metadata": {
        "id": "l2eJAYHLOlQ-"
      },
      "source": [
        "1.3 Надрукувати створений масив"
      ]
    },
    {
      "cell_type": "code",
      "execution_count": 50,
      "metadata": {
        "id": "pB6CVbLHOlQ_",
        "outputId": "fd917795-9104-4b7c-b150-e89c6baa39ed",
        "colab": {
          "base_uri": "https://localhost:8080/"
        }
      },
      "outputs": [
        {
          "output_type": "stream",
          "name": "stdout",
          "text": [
            "[[0. 0. 0. 0. 0. 0. 0. 0. 0. 0. 0.]\n",
            " [0. 0. 0. 0. 0. 0. 0. 0. 0. 0. 0.]\n",
            " [0. 0. 0. 0. 0. 0. 0. 0. 0. 0. 0.]\n",
            " [0. 0. 0. 0. 0. 0. 0. 0. 0. 0. 0.]\n",
            " [0. 0. 0. 0. 0. 0. 0. 0. 0. 0. 0.]\n",
            " [0. 0. 0. 0. 0. 0. 0. 0. 0. 0. 0.]\n",
            " [0. 0. 0. 0. 0. 0. 0. 0. 0. 0. 0.]\n",
            " [0. 0. 0. 0. 0. 0. 0. 0. 0. 0. 0.]\n",
            " [0. 0. 0. 0. 0. 0. 0. 0. 0. 0. 0.]\n",
            " [0. 0. 0. 0. 0. 0. 0. 0. 0. 0. 0.]\n",
            " [0. 0. 0. 0. 0. 0. 0. 0. 0. 0. 0.]]\n"
          ]
        }
      ],
      "source": [
        "print(arr)"
      ]
    },
    {
      "cell_type": "markdown",
      "metadata": {
        "id": "4pSpI8EAOlRA"
      },
      "source": [
        "1.4 Змінити діагоналі за допомогою двох циклів"
      ]
    },
    {
      "cell_type": "code",
      "execution_count": 51,
      "metadata": {
        "id": "X7voPQ2gOlRA"
      },
      "outputs": [],
      "source": [
        "for i in range(size):\n",
        "\tfor j in range(size):\n",
        "\t\tif (i == j):\n",
        "\t\t\tarr[i][j] = 1\n",
        "\t\telif (i + j + 1 == size):\n",
        "\t\t\tarr[i][j] = 1"
      ]
    },
    {
      "cell_type": "markdown",
      "metadata": {
        "id": "LCL24XMMOlRA"
      },
      "source": [
        "1.5 Вивести створений масив"
      ]
    },
    {
      "cell_type": "code",
      "execution_count": 52,
      "metadata": {
        "id": "IkMUapSvOlRB",
        "outputId": "4b28b7d0-2da8-4fbe-aeb1-cb14d26b8d48",
        "colab": {
          "base_uri": "https://localhost:8080/"
        }
      },
      "outputs": [
        {
          "output_type": "stream",
          "name": "stdout",
          "text": [
            "[[1. 0. 0. 0. 0. 0. 0. 0. 0. 0. 1.]\n",
            " [0. 1. 0. 0. 0. 0. 0. 0. 0. 1. 0.]\n",
            " [0. 0. 1. 0. 0. 0. 0. 0. 1. 0. 0.]\n",
            " [0. 0. 0. 1. 0. 0. 0. 1. 0. 0. 0.]\n",
            " [0. 0. 0. 0. 1. 0. 1. 0. 0. 0. 0.]\n",
            " [0. 0. 0. 0. 0. 1. 0. 0. 0. 0. 0.]\n",
            " [0. 0. 0. 0. 1. 0. 1. 0. 0. 0. 0.]\n",
            " [0. 0. 0. 1. 0. 0. 0. 1. 0. 0. 0.]\n",
            " [0. 0. 1. 0. 0. 0. 0. 0. 1. 0. 0.]\n",
            " [0. 1. 0. 0. 0. 0. 0. 0. 0. 1. 0.]\n",
            " [1. 0. 0. 0. 0. 0. 0. 0. 0. 0. 1.]]\n"
          ]
        }
      ],
      "source": [
        "print(arr)"
      ]
    },
    {
      "cell_type": "markdown",
      "metadata": {
        "id": "JUJ7pPUWOlRB"
      },
      "source": [
        "## 2. Засобами NumPy створити вертикальні та горизонтальні зображення градієнту в обидва боки (поступове збільшення яскравості на зображенні).\n",
        "\n",
        "Приклад зображення градієнту\n",
        "<img src=\"https://github.com/StanislavParkhomenko/LabSignal/blob/main/assignments/horizontal_grad.jpg?raw=1\" height=\"200\" width=\"200\">"
      ]
    },
    {
      "cell_type": "markdown",
      "metadata": {
        "id": "AKnMqJx-OlRB"
      },
      "source": [
        "### Горизонтальний градієнт"
      ]
    },
    {
      "cell_type": "markdown",
      "metadata": {
        "id": "oEQeMCKgOlRB"
      },
      "source": [
        "2.1 Створити нульовий масив розміром 255х255"
      ]
    },
    {
      "cell_type": "code",
      "execution_count": 58,
      "metadata": {
        "id": "KNRvK_oQOlRC"
      },
      "outputs": [],
      "source": [
        "import cv2\n",
        "import numpy as np\n",
        "size = 225\n",
        "horizontal_gradient1 = np.zeros((size,size))"
      ]
    },
    {
      "cell_type": "markdown",
      "metadata": {
        "id": "ePi922nqOlRC"
      },
      "source": [
        "2.2 Визначити розміри масиву"
      ]
    },
    {
      "cell_type": "code",
      "execution_count": 59,
      "metadata": {
        "id": "M-0ytF2-OlRC"
      },
      "outputs": [],
      "source": [
        "w = horizontal_gradient1.shape[1]\n",
        "h = horizontal_gradient1.shape[0]"
      ]
    },
    {
      "cell_type": "markdown",
      "metadata": {
        "id": "xJLPqPbzOlRC"
      },
      "source": [
        "2.3 Поелементно змінити яскравості кожного пікселя"
      ]
    },
    {
      "cell_type": "code",
      "execution_count": 61,
      "metadata": {
        "id": "oibr0jW9OlRC"
      },
      "outputs": [],
      "source": [
        "for i in range(size):\n",
        "    for j in range(size):\n",
        "        horizontal_gradient1[i][j] = 0"
      ]
    },
    {
      "cell_type": "markdown",
      "metadata": {
        "id": "L0UaVzOrOlRD"
      },
      "source": [
        "2.4 Записати зображення засабами OpenCV"
      ]
    },
    {
      "cell_type": "code",
      "execution_count": 62,
      "metadata": {
        "id": "onAqbBGNOlRD",
        "outputId": "1f02e298-7d8e-4e11-b06f-997b6fa75386",
        "colab": {
          "base_uri": "https://localhost:8080/"
        }
      },
      "outputs": [
        {
          "output_type": "execute_result",
          "data": {
            "text/plain": [
              "True"
            ]
          },
          "metadata": {},
          "execution_count": 62
        }
      ],
      "source": [
        "cv2.imwrite('horizontal_grad1.jpg', horizontal_gradient1)"
      ]
    },
    {
      "cell_type": "markdown",
      "metadata": {
        "id": "ut7e3pZPOlRD"
      },
      "source": [
        "2.5 Аналогічно створити горизонтальний градієнт в інший бік"
      ]
    },
    {
      "cell_type": "code",
      "execution_count": 63,
      "metadata": {
        "id": "QZ7oOKkGOlRD",
        "colab": {
          "base_uri": "https://localhost:8080/"
        },
        "outputId": "46982d3f-48bd-41de-d215-48178eec9aba"
      },
      "outputs": [
        {
          "output_type": "execute_result",
          "data": {
            "text/plain": [
              "True"
            ]
          },
          "metadata": {},
          "execution_count": 63
        }
      ],
      "source": [
        "size = 255\n",
        "horizontal_gradient2 = np.zeros([size,size])\n",
        "\n",
        "w = horizontal_gradient2.shape[1]\n",
        "h = horizontal_gradient2.shape[0]\n",
        "for i in range(size):\n",
        "    for j in range(size):\n",
        "        horizontal_gradient2[size-1-j][size-1-i] = i\n",
        "        \n",
        "cv2.imwrite('horizontal_grad2.jpg', horizontal_gradient2)"
      ]
    },
    {
      "cell_type": "markdown",
      "metadata": {
        "id": "2NlCAcCzOlRE"
      },
      "source": [
        "### Вертикальний градієнт"
      ]
    },
    {
      "cell_type": "markdown",
      "metadata": {
        "id": "zpYd5DjkOlRE"
      },
      "source": [
        "2.6 Створити нульовий масив розміром 255х255"
      ]
    },
    {
      "cell_type": "code",
      "execution_count": 64,
      "metadata": {
        "id": "w2cswTo1OlRE"
      },
      "outputs": [],
      "source": [
        "vertical_gradient1 = np.zeros([size,size])"
      ]
    },
    {
      "cell_type": "markdown",
      "metadata": {
        "id": "IZU3DHSJOlRE"
      },
      "source": [
        "2.7 Визначити розміри масиву"
      ]
    },
    {
      "cell_type": "code",
      "execution_count": 65,
      "metadata": {
        "id": "ZafnF9H5OlRE"
      },
      "outputs": [],
      "source": [
        "w = vertical_gradient1.shape[1]\n",
        "h = vertical_gradient1.shape[0]"
      ]
    },
    {
      "cell_type": "markdown",
      "metadata": {
        "id": "YJGei9zsOlRF"
      },
      "source": [
        "2.8 Поелементно змінити яскравості кожного пікселя"
      ]
    },
    {
      "cell_type": "code",
      "execution_count": 66,
      "metadata": {
        "id": "x1U6DM6UOlRF"
      },
      "outputs": [],
      "source": [
        "for i in range(size):\n",
        "    for j in range(size):\n",
        "        vertical_gradient1[j][i] = i"
      ]
    },
    {
      "cell_type": "markdown",
      "metadata": {
        "id": "lFu3HuJ3OlRF"
      },
      "source": [
        "2.9 Записати зображення засабами OpenCV"
      ]
    },
    {
      "cell_type": "code",
      "execution_count": 67,
      "metadata": {
        "id": "C9qz15DKOlRF",
        "colab": {
          "base_uri": "https://localhost:8080/"
        },
        "outputId": "a503ba15-58fc-473c-8791-8102de7b09f8"
      },
      "outputs": [
        {
          "output_type": "execute_result",
          "data": {
            "text/plain": [
              "True"
            ]
          },
          "metadata": {},
          "execution_count": 67
        }
      ],
      "source": [
        "cv2.imwrite('vertical_grad1.jpg', vertical_gradient1)"
      ]
    },
    {
      "cell_type": "markdown",
      "metadata": {
        "id": "294fZfsvOlRG"
      },
      "source": [
        "2.10 Аналогічно створити горизонтальний градієнт в інший бік"
      ]
    },
    {
      "cell_type": "code",
      "execution_count": 68,
      "metadata": {
        "id": "evFhu1JfOlRH",
        "colab": {
          "base_uri": "https://localhost:8080/"
        },
        "outputId": "62ea27e6-38ad-4157-a74b-97c9f7891f4e"
      },
      "outputs": [
        {
          "output_type": "execute_result",
          "data": {
            "text/plain": [
              "True"
            ]
          },
          "metadata": {},
          "execution_count": 68
        }
      ],
      "source": [
        "size = 255\n",
        "vertical_gradient2 = np.zeros([size,size])\n",
        "\n",
        "w = vertical_gradient2.shape[1]\n",
        "h = vertical_gradient2.shape[0]\n",
        "\n",
        "for i in range(size):\n",
        "    for j in range(size):\n",
        "        vertical_gradient2[size-1-j][size-1-i] = i\n",
        "        \n",
        "cv2.imwrite('vertical_grad2.jpg', vertical_gradient2)\n"
      ]
    }
  ],
  "metadata": {
    "kernelspec": {
      "display_name": "Python 3",
      "language": "python",
      "name": "python3"
    },
    "language_info": {
      "codemirror_mode": {
        "name": "ipython",
        "version": 3
      },
      "file_extension": ".py",
      "mimetype": "text/x-python",
      "name": "python",
      "nbconvert_exporter": "python",
      "pygments_lexer": "ipython3",
      "version": "3.6.9"
    },
    "colab": {
      "name": "Intro_to_Numpy.ipynb",
      "provenance": []
    }
  },
  "nbformat": 4,
  "nbformat_minor": 0
}